{
  "nbformat": 4,
  "nbformat_minor": 0,
  "metadata": {
    "colab": {
      "provenance": []
    },
    "kernelspec": {
      "name": "python3",
      "display_name": "Python 3"
    },
    "language_info": {
      "name": "python"
    }
  },
  "cells": [
    {
      "cell_type": "code",
      "execution_count": null,
      "metadata": {
        "id": "TMT0zuWQHQ41"
      },
      "outputs": [],
      "source": [
        "import threading\n",
        "print(threading.current_thread())\n",
        "print(threading.current_thread().name)\n",
        "print(threading.current_thread().ident)\n",
        "print(threading.current_thread().is_alive())\n"
      ]
    },
    {
      "cell_type": "code",
      "source": [
        "# import the thread class\n",
        "\n",
        "from threading import Thread\n",
        "\n",
        "# create a function containing the code thats nneeds to be executed parallely\n",
        "\n",
        "def display():\n",
        "  for i in range(4):   # t1 thread\n",
        "    print(\"Ntt Data\")\n",
        "\n",
        "# create a new thread\n",
        "t1 = Thread(target = display)\n",
        "\n",
        "# start the thread\n",
        "t1.start()\n",
        "\n",
        "for i in range(5):       # main thread\n",
        "  print(\"hello world\")\n",
        "\n"
      ],
      "metadata": {
        "colab": {
          "base_uri": "https://localhost:8080/"
        },
        "id": "zd8aOM1eXiyJ",
        "outputId": "782603b8-432c-4a7e-ba88-e9c2a3f6d04d"
      },
      "execution_count": 6,
      "outputs": [
        {
          "output_type": "stream",
          "name": "stdout",
          "text": [
            "Ntt Data\n",
            "Ntt Datahello world\n",
            "hello world\n",
            "Ntt Data\n",
            "Ntt Data\n",
            "\n",
            "hello world\n",
            "hello world\n",
            "hello world\n"
          ]
        }
      ]
    },
    {
      "cell_type": "code",
      "source": [
        "# import the thread class by passing args\n",
        "\n",
        "from threading import Thread\n",
        "\n",
        "# create a function containing the code thats nneeds to be executed parallely\n",
        "\n",
        "def display(n, msg):\n",
        "  for i in range(n):\n",
        "    print(msg)\n",
        "\n",
        "# create a new thread\n",
        "t1 = Thread(target = display, args =(3, \"Bangalore\"))\n",
        "\n",
        "# start the thread\n",
        "t1.start()\n"
      ],
      "metadata": {
        "id": "lcL7RKX0Y7vq"
      },
      "execution_count": null,
      "outputs": []
    },
    {
      "cell_type": "code",
      "source": [
        "# import the thread class by passing args\n",
        "\n",
        "from threading import Thread\n",
        "\n",
        "# create a function containing the code thats nneeds to be executed parallely\n",
        "\n",
        "def display(n):\n",
        "  for i in range(n):\n",
        "    print(\"NTT Data\")\n",
        "\n",
        "# create a new thread\n",
        "t1 = Thread(target = display, args =(3,))\n",
        "\n",
        "# start the thread\n",
        "t1.start()"
      ],
      "metadata": {
        "id": "erPn-gK0ad5S"
      },
      "execution_count": null,
      "outputs": []
    },
    {
      "cell_type": "code",
      "source": [
        "# print the thread details\n",
        "from threading import Thread , current_thread\n",
        "\n",
        "def display(n, msg):\n",
        "\n",
        "  for i in range(n):\n",
        "    print(\"t1 thread details:\", current_thread())\n",
        "    print(msg)\n",
        "\n",
        "t1 = Thread(target = display, args =(3, \"Bangalore\"))\n",
        "t1.start()\n",
        "\n",
        "#print(\" main thread details:\", current_thread())\n",
        "for i in range(4):\n",
        "  print(\"welcome\")"
      ],
      "metadata": {
        "id": "6ZPfdsgma9q_"
      },
      "execution_count": null,
      "outputs": []
    },
    {
      "cell_type": "code",
      "source": [
        "# creating threads for instance methods\n",
        "\n",
        "from threading import Thread\n",
        "\n",
        "class Example:\n",
        "\n",
        "  def display(self,n):\n",
        "    for i in range(5):\n",
        "      print(\"hello world\")\n",
        "\n",
        "e1 = Example()\n",
        "t1 = Thread(target = e1.display, args = (5,))\n",
        "t1.start()\n",
        "\n",
        "for i in range(5):\n",
        "  print(\"welcome\")"
      ],
      "metadata": {
        "id": "N13TKXwwfeQa"
      },
      "execution_count": null,
      "outputs": []
    },
    {
      "cell_type": "code",
      "source": [
        "# creating threads for class methods\n",
        "\n",
        "from threading import Thread\n",
        "\n",
        "class Example:\n",
        "  @classmethod\n",
        "  def display(self,n):\n",
        "    for i in range(5):\n",
        "      print(\"hello world\")\n",
        "\n",
        "#e1 = Example()\n",
        "t1 = Thread(target = Example.display, args = (5,))\n",
        "t1.start()\n",
        "\n",
        "for i in range(5):\n",
        "  print(\"welcome\")"
      ],
      "metadata": {
        "colab": {
          "base_uri": "https://localhost:8080/"
        },
        "id": "0oipZsLlguc-",
        "outputId": "beab5665-d0cc-40a4-974a-6dc091d26006"
      },
      "execution_count": 54,
      "outputs": [
        {
          "output_type": "stream",
          "name": "stdout",
          "text": [
            "hello worldwelcome\n",
            "welcome\n",
            "welcome\n",
            "welcome\n",
            "welcome\n",
            "\n",
            "hello world\n",
            "hello world\n",
            "hello world\n",
            "hello world\n"
          ]
        }
      ]
    },
    {
      "cell_type": "code",
      "source": [
        "# creating threads for static methods\n",
        "\n",
        "from threading import Thread\n",
        "\n",
        "class Example:\n",
        "  @staticmethod\n",
        "  def display(n):\n",
        "    for i in range(5):\n",
        "      print(\"hello world\")\n",
        "\n",
        "#e1 = Example()\n",
        "t1 = Thread(target = Example.display, args = (5,))\n",
        "t1.start()\n",
        "\n",
        "for i in range(5):\n",
        "  print(\"welcome\")"
      ],
      "metadata": {
        "colab": {
          "base_uri": "https://localhost:8080/"
        },
        "id": "aJNH4UschExE",
        "outputId": "c7cd39ac-df38-433e-c758-ced53886cea5"
      },
      "execution_count": 55,
      "outputs": [
        {
          "output_type": "stream",
          "name": "stdout",
          "text": [
            "hello world\n",
            "hello world\n",
            "hello world\n",
            "hello world\n",
            "hello world\n",
            "welcome\n",
            "welcome\n",
            "welcome\n",
            "welcome\n",
            "welcome\n"
          ]
        }
      ]
    },
    {
      "cell_type": "code",
      "source": [
        "# Method 2  creating threads by  extending Thread class\n",
        "\n",
        "videos = ['oops','constructor ','destructor ','file handling']\n",
        "\n",
        "\n",
        "def upload(vid):\n",
        "  print(\"started uploading\",vid)\n",
        "  sleep(3)\n",
        "  print(\"finished uploading\",vid)\n",
        "\n",
        "\n",
        "for i in range(4):\n",
        "  sleep(1)\n",
        "  print(\"cheked copyrights\")\n",
        "\n"
      ],
      "metadata": {
        "id": "kqm08C2siQL7"
      },
      "execution_count": null,
      "outputs": []
    },
    {
      "cell_type": "code",
      "source": [
        "from time import sleep\n",
        "videos = ['oops','constructor ','destructor ','file handling']\n",
        "\n",
        "class Myclass(Thread):\n",
        "  def run(self):\n",
        "    for vid in videos:\n",
        "      print(\"started uploading\",vid)\n",
        "      sleep(1)\n",
        "      print(\"finished uploading\",vid)\n",
        "\n",
        "t1 = Myclass()\n",
        "t1.start()\n",
        "\n",
        "for i in range(4):\n",
        "  sleep(1)\n",
        "  print(\"checked copyrights\")\n",
        "\n"
      ],
      "metadata": {
        "colab": {
          "base_uri": "https://localhost:8080/"
        },
        "id": "zYuMFDZBjGG2",
        "outputId": "d802ed07-6913-4c15-da4a-f693b75ef814"
      },
      "execution_count": 60,
      "outputs": [
        {
          "output_type": "stream",
          "name": "stdout",
          "text": [
            "started uploading oops\n",
            "finished uploading oops\n",
            "started uploading constructor \n",
            "checked copyrights\n",
            "finished uploading constructor \n",
            "started uploading destructor \n",
            "checked copyrights\n",
            "finished uploading destructor \n",
            "started uploadingchecked copyrights\n",
            " file handling\n",
            "checked copyrights\n",
            "finished uploading file handling\n"
          ]
        }
      ]
    },
    {
      "cell_type": "code",
      "source": [
        "from threading import Thread  # way1\n",
        "\n",
        "def display():\n",
        "  a=10\n",
        "  b=20\n",
        "  return a+b\n",
        "\n",
        "t1 = Thread(target = display)\n",
        "print(t1.start())\n"
      ],
      "metadata": {
        "colab": {
          "base_uri": "https://localhost:8080/"
        },
        "id": "PtgchOL1kk9S",
        "outputId": "cb1dfc75-4b27-426b-fde7-69bd0a07d091"
      },
      "execution_count": 61,
      "outputs": [
        {
          "output_type": "stream",
          "name": "stdout",
          "text": [
            "None\n"
          ]
        }
      ]
    },
    {
      "cell_type": "code",
      "source": [
        "class Myclass(Thread): way2\n",
        "\n",
        "  def run(self):\n",
        "    a=20\n",
        "    b=30\n",
        "    self.temp = a+b\n",
        "\n",
        "t1= Myclass()\n",
        "t1.start()\n",
        "print(t1.temp)\n"
      ],
      "metadata": {
        "colab": {
          "base_uri": "https://localhost:8080/"
        },
        "id": "iwB_TQdYlCeR",
        "outputId": "7514dcda-a5bb-4a69-cd49-87b2152909dd"
      },
      "execution_count": 62,
      "outputs": [
        {
          "output_type": "stream",
          "name": "stdout",
          "text": [
            "50\n"
          ]
        }
      ]
    },
    {
      "cell_type": "code",
      "source": [
        "# configuring the thread name\n",
        "\n",
        "from threading import Thread\n",
        "\n",
        "def display():\n",
        "  for i in range(4):\n",
        "    print(\"hello world\")\n",
        "\n",
        "def show():\n",
        "  for i in range(4):\n",
        "    print(\"Welcome\")\n",
        "\n",
        "t1 = Thread(target = display)\n",
        "t2 = Thread(target = show)\n",
        "\n",
        "print(t1.name)\n",
        "print(t2.name)\n",
        "\n",
        "print(t1.getName())\n"
      ],
      "metadata": {
        "colab": {
          "base_uri": "https://localhost:8080/"
        },
        "id": "9c0taRp5epqu",
        "outputId": "cbe7f935-139b-4b79-9806-0025890f5f56"
      },
      "execution_count": 8,
      "outputs": [
        {
          "output_type": "stream",
          "name": "stdout",
          "text": [
            "Thread-18 (display)\n",
            "Thread-19 (show)\n",
            "Thread-18 (display)\n"
          ]
        },
        {
          "output_type": "stream",
          "name": "stderr",
          "text": [
            "<ipython-input-8-d40f06e665f1>:19: DeprecationWarning: getName() is deprecated, get the name attribute instead\n",
            "  print(t1.getName())\n"
          ]
        }
      ]
    },
    {
      "cell_type": "code",
      "source": [
        "# change the name of the thread\n",
        "from threading import Thread\n",
        "\n",
        "def display():\n",
        "  for i in range(4):\n",
        "    print(\"hello world\")\n",
        "\n",
        "def show():\n",
        "  for i in range(4):\n",
        "    print(\"Welcome\")\n",
        "\n",
        "t1 = Thread(target = display)\n",
        "t2 = Thread(target = show)\n",
        "\n",
        "t1.setName(\"aaa\")\n",
        "t2.name = \"bbb\"\n",
        "\n",
        "print(t1.name)\n",
        "print(t2.name)"
      ],
      "metadata": {
        "colab": {
          "base_uri": "https://localhost:8080/"
        },
        "id": "h5-3ULYbl2Wx",
        "outputId": "7eb2082d-d41f-4d57-baa9-16063c230a10"
      },
      "execution_count": 10,
      "outputs": [
        {
          "output_type": "stream",
          "name": "stdout",
          "text": [
            "aaa\n",
            "bbb\n"
          ]
        },
        {
          "output_type": "stream",
          "name": "stderr",
          "text": [
            "<ipython-input-10-0109befad675>:15: DeprecationWarning: setName() is deprecated, set the name attribute instead\n",
            "  t1.setName(\"aaa\")\n"
          ]
        }
      ]
    },
    {
      "cell_type": "code",
      "source": [
        "# change the name of main thread - way 1\n",
        "from threading import Thread, current_thread\n",
        "\n",
        "def display():\n",
        "  for i in range(4):\n",
        "    print(\"hello world\")\n",
        "\n",
        "def show():\n",
        "  for i in range(4):\n",
        "    print(\"Welcome\")\n",
        "\n",
        "t1 = Thread(target = display)\n",
        "t2 = Thread(target = show)\n",
        "\n",
        "t1.name = \"aaa\"\n",
        "t2.name = \"bbb\"\n",
        "\n",
        "print(t1.name)\n",
        "print(t2.name)\n",
        "\n",
        "current_thread().name = \"Main thread by Balan\"\n",
        "print(current_thread().name)\n",
        "\n"
      ],
      "metadata": {
        "colab": {
          "base_uri": "https://localhost:8080/"
        },
        "id": "I4Vmmi4GmlMQ",
        "outputId": "f032be1d-afd3-4d60-99aa-53854075c3c8"
      },
      "execution_count": 13,
      "outputs": [
        {
          "output_type": "stream",
          "name": "stdout",
          "text": [
            "aaa\n",
            "bbb\n",
            "Main thread by Balan\n"
          ]
        }
      ]
    },
    {
      "cell_type": "code",
      "source": [
        "# change the name of main thread - way 2 (more appropriate way)\n",
        "\n",
        "import threading\n",
        "\n",
        "threading.main_thread().name = \"user defined main thread\"\n",
        "print(threading.main_thread().name)\n",
        "\n",
        "\n"
      ],
      "metadata": {
        "colab": {
          "base_uri": "https://localhost:8080/"
        },
        "id": "Fuh3Q90nnbu3",
        "outputId": "24549ebb-5b82-44cf-91c9-428535d1342f"
      },
      "execution_count": 14,
      "outputs": [
        {
          "output_type": "stream",
          "name": "stdout",
          "text": [
            "user defined main thread\n"
          ]
        }
      ]
    },
    {
      "cell_type": "code",
      "source": [
        "# native and Thread identifier\n",
        "\n",
        "import threading\n",
        "from time import sleep\n",
        "\n",
        "def thread_fn():\n",
        "  print(\"thread identifier(ident):\", threading.get_ident())\n",
        "  print(\"native identifier(native_id):\", threading.get_native_id())\n",
        "\n",
        "t1 = threading.Thread(target = thread_fn)\n",
        "t1.start()\n",
        "\n",
        "sleep(3)\n",
        "\n",
        "print(\"main thread identifier(ident):\", threading.get_ident())\n",
        "print(\"main thread native identifier(native_id):\", threading.get_native_id())"
      ],
      "metadata": {
        "colab": {
          "base_uri": "https://localhost:8080/"
        },
        "id": "VeYjA8UUpfzr",
        "outputId": "7c5fe8c6-5d3a-4540-fdc3-b2f0dcebfb19"
      },
      "execution_count": 28,
      "outputs": [
        {
          "output_type": "stream",
          "name": "stdout",
          "text": [
            "thread identifier(ident): 137049688487488\n",
            "native identifier(native_id): 29672\n",
            "main thread identifier(ident): 137050462318592\n",
            "main thread native identifier(native_id): 460\n"
          ]
        }
      ]
    },
    {
      "cell_type": "code",
      "source": [
        "# built in functions - is_alive()\n",
        "\n",
        "from threading import Thread\n",
        "\n",
        "def display():\n",
        "  for i in range(4):\n",
        "    print(\"hello world\")\n",
        "\n",
        "def show():\n",
        "  for i in range(4):\n",
        "    print(\"welcome\")\n",
        "\n",
        "t1 = Thread(target = display)\n",
        "\n",
        "print(t1.is_alive())\n",
        "\n",
        "t1.start()\n",
        "print(t1.is_alive())\n",
        "\n",
        "\n"
      ],
      "metadata": {
        "colab": {
          "base_uri": "https://localhost:8080/"
        },
        "id": "GXkSDxCfsM5U",
        "outputId": "fad89b5c-ae37-4ffd-a64e-12e728e26985"
      },
      "execution_count": 31,
      "outputs": [
        {
          "output_type": "stream",
          "name": "stdout",
          "text": [
            "False\n",
            "hello world\n",
            "True\n",
            "hello world\n",
            "hello world\n",
            "hello world\n"
          ]
        }
      ]
    },
    {
      "cell_type": "code",
      "source": [
        "# built in functions - is_alive()\n",
        "\n",
        "from threading import Thread, main_thread\n",
        "\n",
        "def display():\n",
        "  print(\"main_thread details:\", main_thread())\n",
        "  for i in range(4):\n",
        "    print(\"hello world\")\n",
        "\n",
        "def show():\n",
        "  for i in range(4):\n",
        "    print(\"welcome\")\n",
        "\n",
        "t1 = Thread(target = display)\n",
        "\n",
        "print(t1.is_alive())\n",
        "\n",
        "t1.start()\n",
        "print(t1.is_alive())"
      ],
      "metadata": {
        "colab": {
          "base_uri": "https://localhost:8080/"
        },
        "id": "K6nx0CDDta6U",
        "outputId": "4e15ab2a-f734-4f00-997f-b624a0bc5e58"
      },
      "execution_count": 35,
      "outputs": [
        {
          "output_type": "stream",
          "name": "stdout",
          "text": [
            "False\n",
            "main_thread details: True\n",
            "<_MainThread(user defined main thread, started 137050462318592)>\n",
            "hello world\n",
            "hello world\n",
            "hello world\n",
            "hello world\n"
          ]
        }
      ]
    },
    {
      "cell_type": "code",
      "source": [
        "# built in function - active_count\n",
        "from threading import Thread , active_count\n",
        "\n",
        "def display():\n",
        "  for i in range(4):\n",
        "    print(\"hello world\")\n",
        "\n",
        "def show():\n",
        "  for i in range(4):\n",
        "    print(\"welcome\")\n",
        "\n",
        "t1 = Thread(target = display)\n",
        "t2 = Thread(target = show)\n",
        "t1.start()\n",
        "t2.start()\n",
        "print(\"no of active threads\", active_count())\n",
        "\n",
        "\n"
      ],
      "metadata": {
        "colab": {
          "base_uri": "https://localhost:8080/"
        },
        "id": "iU38b-T5t2LS",
        "outputId": "361d7671-7e99-4f8a-d570-f652eaf968b2"
      },
      "execution_count": 36,
      "outputs": [
        {
          "output_type": "stream",
          "name": "stdout",
          "text": [
            "hello world\n",
            "hello world\n",
            "hello world\n",
            "hello world\n",
            "welcomeno of active threads 6\n",
            "\n",
            "welcome\n",
            "welcome\n",
            "welcome\n"
          ]
        }
      ]
    },
    {
      "cell_type": "code",
      "source": [
        "# built in function - active_count, enumerate\n",
        "from threading import Thread , active_count, enumerate\n",
        "\n",
        "def display():\n",
        "  for i in range(4):\n",
        "    print(\"hello world\")\n",
        "\n",
        "def show():\n",
        "  for i in range(4):\n",
        "    print(\"welcome\")\n",
        "\n",
        "t1 = Thread(target = display)\n",
        "t2 = Thread(target = show)\n",
        "t1.start()\n",
        "t2.start()\n",
        "print(\"no of  active threads\", active_count())\n",
        "print(\"no of  active threads\", enumerate())\n"
      ],
      "metadata": {
        "colab": {
          "base_uri": "https://localhost:8080/"
        },
        "id": "vJq4fin8u0MZ",
        "outputId": "f2a83510-d1e3-4f11-b26c-6290f2dbd2d5"
      },
      "execution_count": 37,
      "outputs": [
        {
          "output_type": "stream",
          "name": "stdout",
          "text": [
            "hello world\n",
            "hello world\n",
            "hello world\n",
            "hello world\n",
            "welcomeno of  active threads 6\n",
            "no of  active threads [<_MainThread(user defined main thread, started 137050462318592)>, <Thread(Thread-2 (_thread_main), started daemon 137050297484864)>, <Heartbeat(Thread-3, started daemon 137050289092160)>, <ParentPollerUnix(Thread-1, started daemon 137050040010304)>, <Thread(_colab_inspector_thread, started daemon 137049696880192)>, <Thread(Thread-54 (show), started 137049688487488)>]\n",
            "\n",
            "welcome\n",
            "welcome\n",
            "welcome\n"
          ]
        }
      ]
    },
    {
      "cell_type": "code",
      "source": [
        "# demo for join method\n",
        "\n",
        "from threading import Thread\n",
        "from time import sleep\n",
        "\n",
        "def upload():\n",
        "  print('upload started')\n",
        "  sleep(1)\n",
        "  print('upload completed')\n",
        "\n",
        "def notification():\n",
        "  print(' video successfully uloaded')\n",
        "\n",
        "t1 = Thread(target= upload)\n",
        "t2 = Thread(target = notification)\n",
        "t1.start()\n",
        "\n",
        "t2.start()\n",
        "\n",
        "\n",
        "\n",
        "#main thread code\n",
        "for i in range(2):\n",
        "  print(\"checking copyrights\")\n",
        "\n"
      ],
      "metadata": {
        "colab": {
          "base_uri": "https://localhost:8080/"
        },
        "id": "OQuNEWWiwu0Z",
        "outputId": "5de9549d-54dd-44e7-fe6f-6911a5cd5d6b"
      },
      "execution_count": 77,
      "outputs": [
        {
          "output_type": "stream",
          "name": "stdout",
          "text": [
            "upload started\n",
            " video successfully uloadedchecking copyrights\n",
            "checking copyrights\n"
          ]
        }
      ]
    },
    {
      "cell_type": "code",
      "source": [
        "# race condition\n",
        "# bus ticketing system\n",
        "\n",
        "from threading import Thread\n",
        "from time import sleep\n",
        "\n",
        "class Bus:\n",
        "  def __init__(self , name , available_seats):\n",
        "    self.available_seats = available_seats\n",
        "    self.name = name\n",
        "\n",
        "  def reserve(self,requested_seat):\n",
        "    if self.available_seats >= requested_seat:\n",
        "      nm = current_thread().name\n",
        "      # ticket booking code here , update the DB\n",
        "      print(\"seats\",requested_seat,\"booked by\",nm)\n",
        "\n",
        "      self.available_seats -= requested_seat\n",
        "    else:\n",
        "      print(\"sorry seats not available\")\n",
        "\n",
        "\n",
        "\n",
        "\n",
        "b1 = Bus(\"ABC\",2)\n",
        "t1 = Thread(target = b1.reserve,args=(2,), name= \"Shiva\")\n",
        "t2 = Thread(target = b1.reserve,args=(1,), name= \"Kumar\")\n",
        "t1.start()\n",
        "t2.start()\n",
        "\n",
        "\n"
      ],
      "metadata": {
        "colab": {
          "base_uri": "https://localhost:8080/"
        },
        "id": "-kw3MhML0MA5",
        "outputId": "c367b46c-8e75-4122-8593-bd597a63e7f7"
      },
      "execution_count": 92,
      "outputs": [
        {
          "output_type": "stream",
          "name": "stdout",
          "text": [
            "seats 2 booked by Shiva\n",
            "sorry seats not available\n"
          ]
        }
      ]
    },
    {
      "cell_type": "code",
      "source": [
        "# Lock mechanism\n",
        "from threading import *\n",
        "from time import sleep\n",
        "\n",
        "mylock = Lock()  # lock object creation\n",
        "\n",
        "def task(mylock, msg):\n",
        "  mylock.acquire()  # acquire the lock\n",
        "  for i in range(5):\n",
        "    print(msg)\n",
        "    sleep(2)\n",
        "  mylock.release()  # release the lock\n",
        "\n",
        "t1 = Thread(target = task , args = (mylock,\"Delhi\"))\n",
        "t2 = Thread(target = task , args = (mylock,\"Cochin\"))\n",
        "t1.start()\n",
        "t2.start()\n",
        "\n",
        "\n"
      ],
      "metadata": {
        "colab": {
          "base_uri": "https://localhost:8080/"
        },
        "id": "3TI5l_q53nVR",
        "outputId": "631fc3ee-f72e-4a49-fe00-9a9c4002050f"
      },
      "execution_count": 1,
      "outputs": [
        {
          "output_type": "stream",
          "name": "stdout",
          "text": [
            "Delhi\n",
            "Cochin\n"
          ]
        }
      ]
    },
    {
      "cell_type": "code",
      "source": [
        "# race condition with lock method\n",
        "# bus ticketing system\n",
        "\n",
        "from threading import *\n",
        "from time import sleep\n",
        "\n",
        "lock = Lock()\n",
        "\n",
        "class Bus:\n",
        "  def __init__(self , name , available_seats,l):\n",
        "    self.available_seats = available_seats\n",
        "    self.name = name\n",
        "    self.l = l\n",
        "\n",
        "  def reserve(self,requested_seat):\n",
        "\n",
        "    self.l.acquire()  #  lock acquired\n",
        "\n",
        "\n",
        "    if self.available_seats >= requested_seat:\n",
        "      nm = current_thread().name\n",
        "      # ticket booking code here , update the DB\n",
        "      print(\"seats\",requested_seat,\"booked by\",nm)\n",
        "\n",
        "      self.available_seats -= requested_seat\n",
        "    else:\n",
        "      print(\"sorry seats not available\")\n",
        "\n",
        "    self.l.release()   # lock released\n",
        "\n",
        "\n",
        "\n",
        "\n",
        "b1 = Bus(\"ABC\",2,lock)\n",
        "t1 = Thread(target = b1.reserve,args=(2,), name= \"Shiva\")\n",
        "t2 = Thread(target = b1.reserve,args=(1,), name= \"Kumar\")\n",
        "t1.start()\n",
        "t2.start()"
      ],
      "metadata": {
        "id": "q5YcQRe86G09"
      },
      "execution_count": null,
      "outputs": []
    },
    {
      "cell_type": "code",
      "source": [
        "# race condition with Rlock method\n",
        "# bus ticketing system\n",
        "\n",
        "from threading import *\n",
        "from time import sleep\n",
        "\n",
        "lock = RLock()   # RLock object creation\n",
        "\n",
        "class Bus:\n",
        "  def __init__(self , name , available_seats,l):\n",
        "    self.available_seats = available_seats\n",
        "    self.name = name\n",
        "    self.l = l\n",
        "\n",
        "  def reserve(self,requested_seat):\n",
        "\n",
        "    self.l.acquire()  #  lock acquired\n",
        "    self.l.acquire()\n",
        "\n",
        "\n",
        "    if self.available_seats >= requested_seat:\n",
        "      nm = current_thread().name\n",
        "      # ticket booking code here , update the DB\n",
        "      print(\"seats\",requested_seat,\"booked by\",nm)\n",
        "\n",
        "      self.available_seats -= requested_seat\n",
        "    else:\n",
        "      print(\"sorry seats not available\")\n",
        "\n",
        "    self.l.release()   # lock released\n",
        "    self.l.release()\n",
        "\n",
        "\n",
        "\n",
        "\n",
        "b1 = Bus(\"ABC\",2,lock)\n",
        "t1 = Thread(target = b1.reserve,args=(2,), name= \"Shiva\")\n",
        "t2 = Thread(target = b1.reserve,args=(1,), name= \"Kumar\")\n",
        "t1.start()\n",
        "t2.start()"
      ],
      "metadata": {
        "id": "SC6PUtHB-Jgg"
      },
      "execution_count": null,
      "outputs": []
    },
    {
      "cell_type": "code",
      "source": [
        "# recursive function using RLock\n",
        "import threading\n",
        "\n",
        "lock = threading.RLock()\n",
        "\n",
        "def recursive_fn(n):\n",
        "\n",
        "  lock.acquire()  # acquire the lock\n",
        "  if n>0:\n",
        "    print(\"entering recursive call with n=\",n)\n",
        "    recursive_fn(n-1)\n",
        "    print(\"exitingg recursive call with n=\",n)\n",
        "  lock.release()\n",
        "\n",
        "t =threading.Thread(target = recursive_fn,args=(5,))\n",
        "t.start()"
      ],
      "metadata": {
        "colab": {
          "base_uri": "https://localhost:8080/"
        },
        "id": "fQsaCin7-1ch",
        "outputId": "d6597042-fa9f-4e8a-d4ae-578fe413a1eb"
      },
      "execution_count": 5,
      "outputs": [
        {
          "output_type": "stream",
          "name": "stdout",
          "text": [
            "entering recursive call with n= 5\n",
            "entering recursive call with n= 4\n",
            "entering recursive call with n= 3\n",
            "entering recursive call with n= 2\n",
            "entering recursive call with n= 1\n",
            "exitingg recursive call with n= 1\n",
            "exitingg recursive call with n= 2\n",
            "exitingg recursive call with n= 3\n",
            "exitingg recursive call with n= 4\n",
            "exitingg recursive call with n= 5\n"
          ]
        }
      ]
    },
    {
      "cell_type": "code",
      "source": [
        "# semaphore\n",
        "\n",
        "from threading import *\n",
        "import time\n",
        "\n",
        "obj = Semaphore(3)  # semaphore obj creation\n",
        "\n",
        "def display(name):\n",
        "  obj.acquire()\n",
        "  for i in range(2):\n",
        "    print(name)\n",
        "\n",
        "    time.sleep(2)\n",
        "\n",
        "  obj.release()\n",
        "\n",
        "\n",
        "t1 = Thread(target = display , args= ('Thread-1',))\n",
        "t2 = Thread(target = display , args= ('Thread-2',))\n",
        "t3 = Thread(target = display , args= ('Thread-3',))\n",
        "t4 = Thread(target = display , args= ('Thread-4',))\n",
        "t5 = Thread(target = display , args= ('Thread-5',))\n",
        "t1.start()\n",
        "t2.start()\n",
        "t3.start()\n",
        "t4.start()\n",
        "t5.start()\n",
        "\n",
        "\n",
        "\n"
      ],
      "metadata": {
        "id": "yaZjLHWmCS-W"
      },
      "execution_count": null,
      "outputs": []
    }
  ]
}