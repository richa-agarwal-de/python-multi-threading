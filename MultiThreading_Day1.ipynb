{
  "nbformat": 4,
  "nbformat_minor": 0,
  "metadata": {
    "colab": {
      "provenance": [],
      "include_colab_link": true
    },
    "kernelspec": {
      "name": "python3",
      "display_name": "Python 3"
    },
    "language_info": {
      "name": "python"
    }
  },
  "cells": [
    {
      "cell_type": "markdown",
      "metadata": {
        "id": "view-in-github",
        "colab_type": "text"
      },
      "source": [
        "<a href=\"https://colab.research.google.com/github/richa-agarwal-de/python-multi-threading/blob/main/MultiThreading_Day1.ipynb\" target=\"_parent\"><img src=\"https://colab.research.google.com/assets/colab-badge.svg\" alt=\"Open In Colab\"/></a>"
      ]
    },
    {
      "cell_type": "code",
      "execution_count": 1,
      "metadata": {
        "id": "TMT0zuWQHQ41",
        "outputId": "fad09a76-7cb7-458a-e6e9-9e38b4e96535",
        "colab": {
          "base_uri": "https://localhost:8080/"
        }
      },
      "outputs": [
        {
          "output_type": "stream",
          "name": "stdout",
          "text": [
            "<_MainThread(MainThread, started 138812872232960)>\n",
            "MainThread\n",
            "138812872232960\n",
            "True\n"
          ]
        }
      ],
      "source": [
        "import threading\n",
        "print(threading.current_thread())\n",
        "print(threading.current_thread().name)\n",
        "print(threading.current_thread().ident)\n",
        "print(threading.current_thread().is_alive())\n"
      ]
    },
    {
      "cell_type": "code",
      "source": [
        "# import the thread class\n",
        "\n",
        "from threading import Thread\n",
        "\n",
        "# create a function containing the code thats nneeds to be executed parallely\n",
        "\n",
        "def display():\n",
        "  for i in range(4):   # t1 thread\n",
        "    print(\"Ntt Data\")\n",
        "\n",
        "# create a new thread\n",
        "t1 = Thread(target = display)\n",
        "\n",
        "# start the thread\n",
        "t1.start()\n",
        "\n",
        "for i in range(5):       # main thread\n",
        "  print(\"hello world\")\n",
        "\n"
      ],
      "metadata": {
        "id": "zd8aOM1eXiyJ",
        "outputId": "8071bef3-9347-441b-fbdc-0525f1ce72e7",
        "colab": {
          "base_uri": "https://localhost:8080/"
        }
      },
      "execution_count": 2,
      "outputs": [
        {
          "output_type": "stream",
          "name": "stdout",
          "text": [
            "Ntt Datahello world\n",
            "hello world\n",
            "hello world\n",
            "hello world\n",
            "hello world\n",
            "Ntt Data\n",
            "Ntt Data\n",
            "Ntt Data\n",
            "\n"
          ]
        }
      ]
    },
    {
      "cell_type": "code",
      "source": [
        "# import the thread class by passing args\n",
        "\n",
        "from threading import Thread\n",
        "\n",
        "# create a function containing the code thats nneeds to be executed parallely\n",
        "\n",
        "def display(n, msg):\n",
        "  for i in range(n):\n",
        "    print(msg)\n",
        "\n",
        "# create a new thread\n",
        "t1 = Thread(target = display, args =(3, \"Bangalore\"))\n",
        "\n",
        "# start the thread\n",
        "t1.start()\n"
      ],
      "metadata": {
        "id": "lcL7RKX0Y7vq",
        "outputId": "e8d9b84a-4577-4d86-e496-eda974713a43",
        "colab": {
          "base_uri": "https://localhost:8080/"
        }
      },
      "execution_count": 3,
      "outputs": [
        {
          "output_type": "stream",
          "name": "stdout",
          "text": [
            "Bangalore\n",
            "Bangalore\n",
            "Bangalore"
          ]
        }
      ]
    },
    {
      "cell_type": "code",
      "source": [
        "# import the thread class by passing args\n",
        "\n",
        "from threading import Thread\n",
        "\n",
        "# create a function containing the code thats nneeds to be executed parallely\n",
        "\n",
        "def display(n):\n",
        "  for i in range(n):\n",
        "    print(\"NTT Data\")\n",
        "\n",
        "# create a new thread\n",
        "t1 = Thread(target = display, args =(3,))\n",
        "\n",
        "# start the thread\n",
        "t1.start()"
      ],
      "metadata": {
        "id": "erPn-gK0ad5S"
      },
      "execution_count": null,
      "outputs": []
    },
    {
      "cell_type": "code",
      "source": [
        "# print the thread details\n",
        "from threading import Thread , current_thread\n",
        "\n",
        "def display(n, msg):\n",
        "\n",
        "  for i in range(n):\n",
        "    print(\"t1 thread details:\", current_thread())\n",
        "    print(msg)\n",
        "\n",
        "t1 = Thread(target = display, args =(3, \"Bangalore\"))\n",
        "t1.start()\n",
        "\n",
        "#print(\" main thread details:\", current_thread())\n",
        "for i in range(4):\n",
        "  print(\"welcome\")"
      ],
      "metadata": {
        "id": "6ZPfdsgma9q_"
      },
      "execution_count": null,
      "outputs": []
    },
    {
      "cell_type": "code",
      "source": [
        "# creating threads for instance methods\n",
        "\n",
        "from threading import Thread\n",
        "\n",
        "class Example:\n",
        "\n",
        "  def display(self,n):\n",
        "    for i in range(5):\n",
        "      print(\"hello world\")\n",
        "\n",
        "e1 = Example()\n",
        "t1 = Thread(target = e1.display, args = (5,))\n",
        "t1.start()\n",
        "\n",
        "for i in range(5):\n",
        "  print(\"welcome\")"
      ],
      "metadata": {
        "id": "N13TKXwwfeQa"
      },
      "execution_count": null,
      "outputs": []
    },
    {
      "cell_type": "code",
      "source": [
        "# creating threads for class methods\n",
        "\n",
        "from threading import Thread\n",
        "\n",
        "class Example:\n",
        "  @classmethod\n",
        "  def display(self,n):\n",
        "    for i in range(5):\n",
        "      print(\"hello world\")\n",
        "\n",
        "#e1 = Example()\n",
        "t1 = Thread(target = Example.display, args = (5,))\n",
        "t1.start()\n",
        "\n",
        "for i in range(5):\n",
        "  print(\"welcome\")"
      ],
      "metadata": {
        "colab": {
          "base_uri": "https://localhost:8080/"
        },
        "id": "0oipZsLlguc-",
        "outputId": "beab5665-d0cc-40a4-974a-6dc091d26006"
      },
      "execution_count": null,
      "outputs": [
        {
          "output_type": "stream",
          "name": "stdout",
          "text": [
            "hello worldwelcome\n",
            "welcome\n",
            "welcome\n",
            "welcome\n",
            "welcome\n",
            "\n",
            "hello world\n",
            "hello world\n",
            "hello world\n",
            "hello world\n"
          ]
        }
      ]
    },
    {
      "cell_type": "code",
      "source": [
        "# creating threads for static methods\n",
        "\n",
        "from threading import Thread\n",
        "\n",
        "class Example:\n",
        "  @staticmethod\n",
        "  def display(n):\n",
        "    for i in range(5):\n",
        "      print(\"hello world\")\n",
        "\n",
        "#e1 = Example()\n",
        "t1 = Thread(target = Example.display, args = (5,))\n",
        "t1.start()\n",
        "\n",
        "for i in range(5):\n",
        "  print(\"welcome\")"
      ],
      "metadata": {
        "colab": {
          "base_uri": "https://localhost:8080/"
        },
        "id": "aJNH4UschExE",
        "outputId": "c7cd39ac-df38-433e-c758-ced53886cea5"
      },
      "execution_count": null,
      "outputs": [
        {
          "output_type": "stream",
          "name": "stdout",
          "text": [
            "hello world\n",
            "hello world\n",
            "hello world\n",
            "hello world\n",
            "hello world\n",
            "welcome\n",
            "welcome\n",
            "welcome\n",
            "welcome\n",
            "welcome\n"
          ]
        }
      ]
    },
    {
      "cell_type": "code",
      "source": [
        "# Method 2  creating threads by  extending Thread class\n",
        "\n",
        "videos = ['oops','constructor ','destructor ','file handling']\n",
        "\n",
        "\n",
        "def upload(vid):\n",
        "  print(\"started uploading\",vid)\n",
        "  sleep(3)\n",
        "  print(\"finished uploading\",vid)\n",
        "\n",
        "\n",
        "for i in range(4):\n",
        "  sleep(1)\n",
        "  print(\"cheked copyrights\")\n",
        "\n"
      ],
      "metadata": {
        "id": "kqm08C2siQL7"
      },
      "execution_count": null,
      "outputs": []
    },
    {
      "cell_type": "code",
      "source": [
        "from time import sleep\n",
        "videos = ['oops','constructor ','destructor ','file handling']\n",
        "\n",
        "class Myclass(Thread):\n",
        "  def run(self):\n",
        "    for vid in videos:\n",
        "      print(\"started uploading\",vid)\n",
        "      sleep(1)\n",
        "      print(\"finished uploading\",vid)\n",
        "\n",
        "t1 = Myclass()\n",
        "t1.start()\n",
        "\n",
        "for i in range(4):\n",
        "  sleep(1)\n",
        "  print(\"checked copyrights\")\n",
        "\n"
      ],
      "metadata": {
        "colab": {
          "base_uri": "https://localhost:8080/"
        },
        "id": "zYuMFDZBjGG2",
        "outputId": "d802ed07-6913-4c15-da4a-f693b75ef814"
      },
      "execution_count": null,
      "outputs": [
        {
          "output_type": "stream",
          "name": "stdout",
          "text": [
            "started uploading oops\n",
            "finished uploading oops\n",
            "started uploading constructor \n",
            "checked copyrights\n",
            "finished uploading constructor \n",
            "started uploading destructor \n",
            "checked copyrights\n",
            "finished uploading destructor \n",
            "started uploadingchecked copyrights\n",
            " file handling\n",
            "checked copyrights\n",
            "finished uploading file handling\n"
          ]
        }
      ]
    },
    {
      "cell_type": "code",
      "source": [
        "from threading import Thread  # way1\n",
        "\n",
        "def display():\n",
        "  a=10\n",
        "  b=20\n",
        "  return a+b\n",
        "\n",
        "t1 = Thread(target = display)\n",
        "print(t1.start())\n"
      ],
      "metadata": {
        "colab": {
          "base_uri": "https://localhost:8080/"
        },
        "id": "PtgchOL1kk9S",
        "outputId": "cb1dfc75-4b27-426b-fde7-69bd0a07d091"
      },
      "execution_count": null,
      "outputs": [
        {
          "output_type": "stream",
          "name": "stdout",
          "text": [
            "None\n"
          ]
        }
      ]
    },
    {
      "cell_type": "code",
      "source": [
        "class Myclass(Thread): way2\n",
        "\n",
        "  def run(self):\n",
        "    a=20\n",
        "    b=30\n",
        "    self.temp = a+b\n",
        "\n",
        "t1= Myclass()\n",
        "t1.start()\n",
        "print(t1.temp)\n"
      ],
      "metadata": {
        "colab": {
          "base_uri": "https://localhost:8080/"
        },
        "id": "iwB_TQdYlCeR",
        "outputId": "7514dcda-a5bb-4a69-cd49-87b2152909dd"
      },
      "execution_count": null,
      "outputs": [
        {
          "output_type": "stream",
          "name": "stdout",
          "text": [
            "50\n"
          ]
        }
      ]
    }
  ]
}